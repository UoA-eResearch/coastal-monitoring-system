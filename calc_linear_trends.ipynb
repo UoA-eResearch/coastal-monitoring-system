{
 "cells": [
  {
   "cell_type": "code",
   "execution_count": 1,
   "metadata": {
    "execution": {
     "iopub.execute_input": "2024-10-08T03:08:03.174734Z",
     "iopub.status.busy": "2024-10-08T03:08:03.174509Z",
     "iopub.status.idle": "2024-10-08T03:08:04.070710Z",
     "shell.execute_reply": "2024-10-08T03:08:04.069842Z"
    }
   },
   "outputs": [],
   "source": [
    "import geopandas as gpd\n",
    "import pandas as pd\n",
    "import os\n",
    "from glob import glob\n",
    "from sklearn.linear_model import LinearRegression\n",
    "from tqdm.auto import tqdm\n",
    "from tqdm.contrib.concurrent import process_map\n",
    "from sklearn.metrics import mean_squared_error, r2_score, mean_absolute_error, root_mean_squared_error"
   ]
  },
  {
   "cell_type": "code",
   "execution_count": 2,
   "metadata": {
    "execution": {
     "iopub.execute_input": "2024-10-08T03:08:04.074517Z",
     "iopub.status.busy": "2024-10-08T03:08:04.074177Z",
     "iopub.status.idle": "2024-10-08T03:08:04.127821Z",
     "shell.execute_reply": "2024-10-08T03:08:04.127038Z"
    }
   },
   "outputs": [
    {
     "data": {
      "text/html": [
       "<div>\n",
       "<style scoped>\n",
       "    .dataframe tbody tr th:only-of-type {\n",
       "        vertical-align: middle;\n",
       "    }\n",
       "\n",
       "    .dataframe tbody tr th {\n",
       "        vertical-align: top;\n",
       "    }\n",
       "\n",
       "    .dataframe thead th {\n",
       "        text-align: right;\n",
       "    }\n",
       "</style>\n",
       "<table border=\"1\" class=\"dataframe\">\n",
       "  <thead>\n",
       "    <tr style=\"text-align: right;\">\n",
       "      <th></th>\n",
       "      <th>index</th>\n",
       "      <th>parent_id</th>\n",
       "      <th>sediment_area_ha</th>\n",
       "      <th>geometry</th>\n",
       "    </tr>\n",
       "  </thead>\n",
       "  <tbody>\n",
       "    <tr>\n",
       "      <th>95</th>\n",
       "      <td>85da9213fffffff</td>\n",
       "      <td>84da921ffffffff</td>\n",
       "      <td>210.88</td>\n",
       "      <td>POLYGON ((1528885.242 5425964.833, 1524656.417...</td>\n",
       "    </tr>\n",
       "    <tr>\n",
       "      <th>128</th>\n",
       "      <td>85bb58c7fffffff</td>\n",
       "      <td>84bb58dffffffff</td>\n",
       "      <td>253.24</td>\n",
       "      <td>POLYGON ((1595414.183 6163032.018, 1591203.235...</td>\n",
       "    </tr>\n",
       "  </tbody>\n",
       "</table>\n",
       "</div>"
      ],
      "text/plain": [
       "               index        parent_id  sediment_area_ha  \\\n",
       "95   85da9213fffffff  84da921ffffffff            210.88   \n",
       "128  85bb58c7fffffff  84bb58dffffffff            253.24   \n",
       "\n",
       "                                              geometry  \n",
       "95   POLYGON ((1528885.242 5425964.833, 1524656.417...  \n",
       "128  POLYGON ((1595414.183 6163032.018, 1591203.235...  "
      ]
     },
     "execution_count": 2,
     "metadata": {},
     "output_type": "execute_result"
    }
   ],
   "source": [
    "sites = pd.read_csv('global-inputs/sites.csv')\n",
    "hr5_cells = gpd.read_file('global-inputs/HR5-change-cells-aoi.gpkg')\n",
    "\n",
    "cells = hr5_cells[hr5_cells['index'].isin(sites['cell_id'])]\n",
    "\n",
    "cells\n"
   ]
  },
  {
   "cell_type": "code",
   "execution_count": 3,
   "metadata": {
    "execution": {
     "iopub.execute_input": "2024-10-08T03:08:04.130043Z",
     "iopub.status.busy": "2024-10-08T03:08:04.129704Z",
     "iopub.status.idle": "2024-10-08T03:08:04.135495Z",
     "shell.execute_reply": "2024-10-08T03:08:04.134884Z"
    }
   },
   "outputs": [
    {
     "data": {
      "text/plain": [
       "0    data/HR5/85bb58c7fffffff/shoreline_timeseries_...\n",
       "1    data/HR5/85da9213fffffff/shoreline_timeseries_...\n",
       "dtype: object"
      ]
     },
     "execution_count": 3,
     "metadata": {},
     "output_type": "execute_result"
    }
   ],
   "source": [
    "shoreline_files = pd.Series(sorted(glob(\"data/HR5/*/shoreline_timeseries_tidal_correction.csv\")))\n",
    "\n",
    "shoreline_files"
   ]
  },
  {
   "cell_type": "code",
   "execution_count": 4,
   "metadata": {
    "execution": {
     "iopub.execute_input": "2024-10-08T03:08:04.137335Z",
     "iopub.status.busy": "2024-10-08T03:08:04.137137Z",
     "iopub.status.idle": "2024-10-08T03:08:04.143874Z",
     "shell.execute_reply": "2024-10-08T03:08:04.143247Z"
    }
   },
   "outputs": [],
   "source": [
    "def calc_trends(file):\n",
    "    df  = pd.read_csv(file)\n",
    "    try:\n",
    "        df.date = pd.to_datetime(df.date)\n",
    "    except:\n",
    "        print(file)\n",
    "    df.index = (df.date - df.date.min()).dt.days / 365.25\n",
    "    df.drop(columns=['date', 'Unnamed: 0', 'corrected_IW_shoreline_position', 'EOV_shoreline_chg'], inplace=True, errors='ignore')\n",
    "    trends = {}\n",
    "    for col in df.columns:\n",
    "        sub_df = df[col].dropna()\n",
    "        \n",
    "        if not len(sub_df):\n",
    "            continue\n",
    "        x = sub_df.index.to_numpy().reshape(-1,1)\n",
    "        y = sub_df\n",
    "        linear_trend = LinearRegression().fit(x,y)\n",
    "        pred = linear_trend.predict(x)\n",
    "\n",
    "        trends['index'] = file.split('/')[2]\n",
    "        if col == 'normalised_IW_shoreline_position':\n",
    "            trends[\"IW shoreline trend\"] = linear_trend.coef_[0]\n",
    "            trends[\"IW shoreline intercept\"] = linear_trend.intercept_\n",
    "            trends[\"IW shoreline n_points\"] = len(df[col])\n",
    "            trends[\"IW shoreline n_points_nonan\"] = len(sub_df)\n",
    "            trends[\"IW shoreline r2_score\"] = r2_score(y, pred)\n",
    "            trends[\"IW shoreline mae\"] = mean_absolute_error(y, pred)\n",
    "            trends[\"IW shoreline mse\"] = mean_squared_error(y, pred)\n",
    "            trends[\"IW shoreline rmse\"] = root_mean_squared_error(y, pred)\n",
    "        else:\n",
    "            trends[\"EOV shoreline trend\"] = linear_trend.coef_[0]\n",
    "            trends[\"EOV shoreline intercept\"] = linear_trend.intercept_\n",
    "            trends[\"EOV shoreline n_points\"] = len(df[col])\n",
    "            trends[\"EOV shoreline n_points_nonan\"] = len(sub_df)\n",
    "            trends[\"EOV shoreline r2_score\"] = r2_score(y, pred)\n",
    "            trends[\"EOV shoreline mae\"] = mean_absolute_error(y, pred)\n",
    "            trends[\"EOV shoreline mse\"] = mean_squared_error(y, pred)\n",
    "            trends[\"EOV shoreline rmse\"] = root_mean_squared_error(y, pred)\n",
    "\n",
    "    return pd.DataFrame([trends])\n",
    "    "
   ]
  },
  {
   "cell_type": "code",
   "execution_count": 5,
   "metadata": {
    "execution": {
     "iopub.execute_input": "2024-10-08T03:08:04.145596Z",
     "iopub.status.busy": "2024-10-08T03:08:04.145405Z",
     "iopub.status.idle": "2024-10-08T03:08:04.148814Z",
     "shell.execute_reply": "2024-10-08T03:08:04.148191Z"
    }
   },
   "outputs": [
    {
     "name": "stdout",
     "output_type": "stream",
     "text": [
      "test shell script - notebook 2\n"
     ]
    }
   ],
   "source": [
    "trends = pd.concat([calc_trends(f) for f in shoreline_files])\n",
    "\n",
    "trends"
   ]
  },
  {
   "cell_type": "code",
   "execution_count": 6,
   "metadata": {
    "execution": {
     "iopub.execute_input": "2024-10-08T03:08:04.150443Z",
     "iopub.status.busy": "2024-10-08T03:08:04.150265Z",
     "iopub.status.idle": "2024-10-08T03:08:04.153194Z",
     "shell.execute_reply": "2024-10-08T03:08:04.152609Z"
    }
   },
   "outputs": [],
   "source": [
    "trends_file_path = 'shoreline_trends_by_cell.geojson'\n",
    "# if os.path.exists(trends_file_path):\n",
    "#     cell_trends = gpd.read_file('shoreline_trends_by_cell.geojson')\n",
    "#     cell_trends.to_crs(\"EPSG:4326\", inplace=True)\n",
    "#     cell_trends.update(trends)\n",
    "#     cell_trends.to_file(trends_file_path)\n",
    "# else:\n",
    "cell_trends = cells.merge(trends, on='index')\n",
    "cell_trends.to_crs(\"EPSG:4326\", inplace=True)\n",
    "cell_trends.to_file(trends_file_path)\n",
    "    \n",
    "\n",
    "cell_trends"
   ]
  },
  {
   "cell_type": "code",
   "execution_count": null,
   "metadata": {},
   "outputs": [],
   "source": []
  }
 ],
 "metadata": {
  "kernelspec": {
   "display_name": "Python 3 (ipykernel)",
   "language": "python",
   "name": "python3"
  },
  "language_info": {
   "codemirror_mode": {
    "name": "ipython",
    "version": 3
   },
   "file_extension": ".py",
   "mimetype": "text/x-python",
   "name": "python",
   "nbconvert_exporter": "python",
   "pygments_lexer": "ipython3",
   "version": "3.12.6"
  }
 },
 "nbformat": 4,
 "nbformat_minor": 4
}
