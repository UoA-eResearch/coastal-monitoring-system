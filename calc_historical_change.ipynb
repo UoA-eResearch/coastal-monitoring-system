{
 "cells": [
  {
   "cell_type": "code",
   "execution_count": 1,
   "metadata": {},
   "outputs": [],
   "source": [
    "from ccdutils import monitoringutils\n",
    "import geopandas as gpd \n",
    "import pandas as pd\n",
    "import os\n",
    "import ee"
   ]
  },
  {
   "cell_type": "code",
   "execution_count": 2,
   "metadata": {},
   "outputs": [],
   "source": [
    "service_account = 'monitoring-bot@coastal-monitoring-system.iam.gserviceaccount.com'\n",
    "credentials = ee.ServiceAccountCredentials(service_account, '.ee_service_account_key.json')\n",
    "ee.Initialize(credentials)"
   ]
  },
  {
   "cell_type": "code",
   "execution_count": 3,
   "metadata": {},
   "outputs": [
    {
     "name": "stdout",
     "output_type": "stream",
     "text": [
      "0) data/HR5/85da9213fffffff/classification/2019.kea\n",
      "New image width = 1009 height = 933 bands = 1\n",
      "\n"
     ]
    },
    {
     "name": "stderr",
     "output_type": "stream",
     "text": [
      "101it [00:00, 3631.49it/s]                                                      "
     ]
    },
    {
     "name": "stdout",
     "output_type": "stream",
     "text": [
      "Polygonising...\n",
      "Completed\n"
     ]
    },
    {
     "name": "stderr",
     "output_type": "stream",
     "text": [
      "\n"
     ]
    },
    {
     "name": "stdout",
     "output_type": "stream",
     "text": [
      "Looking for images between 2016-11-25 and 2024-09-27\n",
      "number of cloud-free available: 97\n",
      "Looking for images between 2012-12-28 and 2024-09-27\n",
      "number of available images: 562\n",
      "number of cloud-free images: 89\n",
      "Looking for images between 2021-01-01 and 2024-09-27\n",
      "number of available images: 146\n",
      "number of cloud-free images: 31\n",
      "Looking for images between 1998-12-27 and 2003-06-01\n",
      "number of available images: 176\n",
      "number of cloud-free images: 39\n",
      "Looking for images between 1984-03-02 and 2012-06-01\n",
      "number of available images: 170\n",
      "number of cloud-free images: 39\n",
      "number of cloud-free images to download:  97\n"
     ]
    },
    {
     "data": {
      "application/vnd.jupyter.widget-view+json": {
       "model_id": "1ca1e57cbee744c7ace05f6f3ba5163d",
       "version_major": 2,
       "version_minor": 0
      },
      "text/plain": [
       "  0%|          | 0/97 [00:00<?, ?it/s]"
      ]
     },
     "metadata": {},
     "output_type": "display_data"
    },
    {
     "name": "stdout",
     "output_type": "stream",
     "text": [
      "S2_20181215.tif already downloaded.\n",
      "S2_20190228.tif already downloaded.\n",
      "S2_20190417.tif already downloaded.\n",
      "S2_20190104.tif already downloaded.\n",
      "S2_20190412.tif already downloaded.\n",
      "S2_20190407.tif already downloaded.\n",
      "S2_20190323.tif already downloaded.\n",
      "S2_20190330.tif already downloaded.\n",
      "S2_20190429.tif already downloaded.\n",
      "S2_20190107.tif already downloaded.\n",
      "S2_20190328.tif already downloaded.\n",
      "S2_20190114.tif already downloaded.\n",
      "S2_20190817.tif already downloaded.\n",
      "S2_20191103.tif already downloaded.\n",
      "S2_20191228.tif already downloaded.\n",
      "S2_20191225.tif already downloaded.\n",
      "S2_20190909.tif already downloaded.\n",
      "S2_20200119.tif already downloaded.\n",
      "S2_20200401.tif already downloaded.\n",
      "S2_20191208.tif already downloaded.\n",
      "S2_20191220.tif already downloaded.\n",
      "S2_20200403.tif already downloaded.\n",
      "S2_20200329.tif already downloaded.\n",
      "S2_20200516.tif already downloaded.\n",
      "S2_20201114.tif already downloaded.\n",
      "S2_20201023.tif already downloaded.\n",
      "S2_20200816.tif already downloaded.\n",
      "S2_20210103.tif already downloaded.\n",
      "S2_20201224.tif already downloaded.\n",
      "S2_20210131.tif already downloaded.\n",
      "S2_20210111.tif already downloaded.\n",
      "S2_20210215.tif already downloaded.\n",
      "S2_20210225.tif already downloaded.\n",
      "S2_20210128.tif already downloaded.\n",
      "S2_20210329.tif already downloaded.\n",
      "S2_20210312.tif already downloaded.\n",
      "S2_20210930.tif already downloaded.\n",
      "S2_20211013.tif already downloaded.\n",
      "S2_20210913.tif already downloaded.\n",
      "S2_20211102.tif already downloaded.\n",
      "S2_20210829.tif already downloaded.\n",
      "S2_20220116.tif already downloaded.\n",
      "S2_20211117.tif already downloaded.\n",
      "S2_20210831.tif already downloaded.\n",
      "S2_20211122.tif already downloaded.\n",
      "S2_20211107.tif already downloaded.\n",
      "S2_20211207.tif already downloaded.\n",
      "S2_20220121.tif already downloaded.\n",
      "S2_20220207.tif already downloaded.\n",
      "S2_20220128.tif already downloaded.\n",
      "S2_20220126.tif already downloaded.\n",
      "S2_20220304.tif already downloaded.\n",
      "S2_20220307.tif already downloaded.\n",
      "S2_20220217.tif already downloaded.\n",
      "S2_20220225.tif already downloaded.\n",
      "S2_20220309.tif already downloaded.\n",
      "S2_20220403.tif already downloaded.\n",
      "S2_20220312.tif already downloaded.\n",
      "S2_20220327.tif already downloaded.\n",
      "S2_20220408.tif already downloaded.\n",
      "S2_20220908.tif already downloaded.\n",
      "S2_20221013.tif already downloaded.\n",
      "S2_20230111.tif already downloaded.\n",
      "S2_20221217.tif already downloaded.\n",
      "S2_20220905.tif already downloaded.\n",
      "S2_20221114.tif already downloaded.\n",
      "S2_20221109.tif already downloaded.\n",
      "S2_20230108.tif already downloaded.\n",
      "S2_20230212.tif already downloaded.\n",
      "S2_20230217.tif already downloaded.\n",
      "S2_20230118.tif already downloaded.\n",
      "S2_20230227.tif already downloaded.\n",
      "S2_20230317.tif already downloaded.\n",
      "S2_20230322.tif already downloaded.\n",
      "S2_20230903.tif already downloaded.\n",
      "S2_20230314.tif already downloaded.\n",
      "S2_20231003.tif already downloaded.\n",
      "S2_20230908.tif already downloaded.\n",
      "S2_20230925.tif already downloaded.\n",
      "S2_20231020.tif already downloaded.\n",
      "S2_20230329.tif already downloaded.\n",
      "S2_20231030.tif already downloaded.\n",
      "S2_20231018.tif already downloaded.\n",
      "S2_20231219.tif already downloaded.\n",
      "S2_20231124.tif already downloaded.\n",
      "S2_20231207.tif already downloaded.\n",
      "S2_20240103.tif already downloaded.\n",
      "S2_20240123.tif already downloaded.\n",
      "S2_20240106.tif already downloaded.\n",
      "S2_20240108.tif already downloaded.\n",
      "S2_20240217.tif already downloaded.\n",
      "S2_20240212.tif already downloaded.\n",
      "S2_20240227.tif already downloaded.\n",
      "S2_20240220.tif already downloaded.\n",
      "S2_20240316.tif already downloaded.\n",
      "S2_20240318.tif already downloaded.\n",
      "S2_20240328.tif already downloaded.\n",
      "images downloaded.\n"
     ]
    },
    {
     "data": {
      "application/vnd.jupyter.widget-view+json": {
       "model_id": "1adc9a58a5eb413cb49b9bb6a433559f",
       "version_major": 2,
       "version_minor": 0
      },
      "text/plain": [
       "0it [00:00, ?it/s]"
      ]
     },
     "metadata": {},
     "output_type": "display_data"
    },
    {
     "name": "stdout",
     "output_type": "stream",
     "text": [
      "number of cloud-free images to download:  89\n"
     ]
    },
    {
     "data": {
      "application/vnd.jupyter.widget-view+json": {
       "model_id": "6fe5911cc8f0417480175339f94c4285",
       "version_major": 2,
       "version_minor": 0
      },
      "text/plain": [
       "  0%|          | 0/89 [00:00<?, ?it/s]"
      ]
     },
     "metadata": {},
     "output_type": "display_data"
    },
    {
     "name": "stdout",
     "output_type": "stream",
     "text": [
      "LC08_20150323.tif already downloaded.\n",
      "LC08_20190724.tif already downloaded.\n",
      "LC08_20160105.tif already downloaded.\n",
      "LC08_20181110.tif already downloaded.\n",
      "LC08_20180822.tif already downloaded.\n",
      "LC08_20140928.tif already downloaded.\n",
      "LC08_20180502.tif already downloaded.\n",
      "LC08_20200304.tif already downloaded.\n",
      "LC08_20160426.tif already downloaded.\n",
      "LC08_20170328.tif already downloaded.\n",
      "LC08_20150307.tif already downloaded.\n",
      "LC08_20180806.tif already downloaded.\n",
      "LC08_20230124.tif already downloaded.\n",
      "LC08_20230108.tif already downloaded.\n",
      "LC08_20201014.tif already downloaded.\n",
      "LC08_20210526.tif already downloaded.\n",
      "LC08_20210830.tif already downloaded.\n",
      "LC08_20200507.tif already downloaded.\n",
      "LC08_20231124.tif already downloaded.\n",
      "LC08_20220326.tif already downloaded.\n",
      "LC08_20211102.tif already downloaded.\n",
      "LC08_20240315.tif already downloaded.\n",
      "LC08_20211118.tif already downloaded.\n",
      "LC08_20230329.tif already downloaded.\n",
      "LC08_20131103.tif already downloaded.\n",
      "LC08_20240502.tif already downloaded.\n",
      "LC08_20140207.tif already downloaded.\n",
      "LC08_20240603.tif already downloaded.\n",
      "LC08_20141106.tif already downloaded.\n",
      "LC08_20130916.tif already downloaded.\n",
      "LC08_20240518.tif already downloaded.\n",
      "LC08_20131018.tif already downloaded.\n",
      "LC08_20141021.tif already downloaded.\n",
      "LC08_20141224.tif already downloaded.\n",
      "LC08_20150109.tif already downloaded.\n",
      "LC08_20141122.tif already downloaded.\n",
      "LC08_20150125.tif already downloaded.\n",
      "LC08_20171013.tif already downloaded.\n",
      "LC08_20150314.tif already downloaded.\n",
      "LC08_20150415.tif already downloaded.\n",
      "LC08_20151024.tif already downloaded.\n",
      "LC08_20160213.tif already downloaded.\n",
      "LC08_20170927.tif already downloaded.\n",
      "LC08_20170215.tif already downloaded.\n",
      "LC08_20171130.tif already downloaded.\n",
      "LC08_20201224.tif already downloaded.\n",
      "LC08_20180407.tif already downloaded.\n",
      "LC08_20180914.tif already downloaded.\n",
      "LC08_20190917.tif already downloaded.\n",
      "LC08_20200919.tif already downloaded.\n",
      "LC08_20200208.tif already downloaded.\n",
      "LC08_20191222.tif already downloaded.\n",
      "LC08_20220128.tif already downloaded.\n",
      "LC08_20200327.tif already downloaded.\n",
      "LC08_20220301.tif already downloaded.\n",
      "LC08_20220402.tif already downloaded.\n",
      "LC08_20220909.tif already downloaded.\n",
      "LC08_20230216.tif already downloaded.\n",
      "LC08_20231030.tif already downloaded.\n",
      "LC08_20240407.tif already downloaded.\n",
      "LC08_20240102.tif already downloaded.\n",
      "LC08_20141224.tif already downloaded.\n",
      "LC08_20130916.tif already downloaded.\n",
      "LC08_20131018.tif already downloaded.\n",
      "LC08_20150109.tif already downloaded.\n",
      "LC08_20150314.tif already downloaded.\n",
      "LC08_20150125.tif already downloaded.\n",
      "LC08_20141106.tif already downloaded.\n",
      "LC08_20151024.tif already downloaded.\n",
      "LC08_20150501.tif already downloaded.\n",
      "LC08_20171013.tif already downloaded.\n",
      "LC08_20160213.tif already downloaded.\n",
      "LC08_20161229.tif already downloaded.\n",
      "LC08_20170927.tif already downloaded.\n",
      "LC08_20180407.tif already downloaded.\n",
      "LC08_20180914.tif already downloaded.\n",
      "LC08_20171130.tif already downloaded.\n",
      "LC08_20190917.tif already downloaded.\n",
      "LC08_20161213.tif already downloaded.\n",
      "LC08_20200327.tif already downloaded.\n",
      "LC08_20191222.tif already downloaded.\n",
      "LC08_20200919.tif already downloaded.\n",
      "LC08_20220128.tif already downloaded.\n",
      "LC08_20220301.tif already downloaded.\n",
      "LC08_20201224.tif already downloaded.\n",
      "LC08_20240407.tif already downloaded.\n",
      "LC08_20220402.tif already downloaded.\n",
      "LC08_20220909.tif already downloaded.\n",
      "LC08_20240102.tif already downloaded.\n",
      "images downloaded.\n"
     ]
    },
    {
     "data": {
      "application/vnd.jupyter.widget-view+json": {
       "model_id": "6e35e99141174d978c7f7bdd71556bd7",
       "version_major": 2,
       "version_minor": 0
      },
      "text/plain": [
       "0it [00:00, ?it/s]"
      ]
     },
     "metadata": {},
     "output_type": "display_data"
    },
    {
     "name": "stderr",
     "output_type": "stream",
     "text": [
      "/home/vdiuser/coastal-monitoring-system/ccdutils/monitoringutils.py:310: UserWarning: DataFrame columns are not unique, some columns will be omitted.\n",
      "  meta_dict = meta_df.to_dict(orient='list')\n"
     ]
    },
    {
     "name": "stdout",
     "output_type": "stream",
     "text": [
      "number of cloud-free images to download:  31\n"
     ]
    },
    {
     "data": {
      "application/vnd.jupyter.widget-view+json": {
       "model_id": "5c2d42e22a6a433582f9649a68f62a41",
       "version_major": 2,
       "version_minor": 0
      },
      "text/plain": [
       "  0%|          | 0/31 [00:00<?, ?it/s]"
      ]
     },
     "metadata": {},
     "output_type": "display_data"
    },
    {
     "name": "stdout",
     "output_type": "stream",
     "text": [
      "LC09_20220403.tif already downloaded.\n",
      "LC09_20220505.tif already downloaded.\n",
      "LC09_20230422.tif already downloaded.\n",
      "LC09_20230305.tif already downloaded.\n",
      "LC09_20211106.tif already downloaded.\n",
      "LC09_20230828.tif already downloaded.\n",
      "LC09_20230217.tif already downloaded.\n",
      "LC09_20230321.tif already downloaded.\n",
      "LC09_20240220.tif already downloaded.\n",
      "LC09_20221113.tif already downloaded.\n",
      "LC09_20240323.tif already downloaded.\n",
      "LC09_20230406.tif already downloaded.\n",
      "LC09_20220309.tif already downloaded.\n",
      "LC09_20220325.tif already downloaded.\n",
      "LC09_20220120.tif already downloaded.\n",
      "LC09_20220917.tif already downloaded.\n",
      "LC09_20240330.tif already downloaded.\n",
      "LC09_20240227.tif already downloaded.\n",
      "LC09_20240211.tif already downloaded.\n",
      "LC09_20220426.tif already downloaded.\n",
      "LC09_20220120.tif already downloaded.\n",
      "LC09_20230328.tif already downloaded.\n",
      "LC09_20220325.tif already downloaded.\n",
      "LC09_20240720.tif already downloaded.\n",
      "LC09_20220309.tif already downloaded.\n",
      "LC09_20220917.tif already downloaded.\n",
      "LC09_20220426.tif already downloaded.\n",
      "LC09_20230312.tif already downloaded.\n",
      "LC09_20230413.tif already downloaded.\n",
      "LC09_20240211.tif already downloaded.\n",
      "LC09_20230328.tif already downloaded.\n",
      "images downloaded.\n"
     ]
    },
    {
     "data": {
      "application/vnd.jupyter.widget-view+json": {
       "model_id": "5e14d8d452b34fac90bcabe5805be9fb",
       "version_major": 2,
       "version_minor": 0
      },
      "text/plain": [
       "0it [00:00, ?it/s]"
      ]
     },
     "metadata": {},
     "output_type": "display_data"
    },
    {
     "name": "stderr",
     "output_type": "stream",
     "text": [
      "/home/vdiuser/coastal-monitoring-system/ccdutils/monitoringutils.py:310: UserWarning: DataFrame columns are not unique, some columns will be omitted.\n",
      "  meta_dict = meta_df.to_dict(orient='list')\n"
     ]
    },
    {
     "name": "stdout",
     "output_type": "stream",
     "text": [
      "number of cloud-free images to download:  39\n"
     ]
    },
    {
     "data": {
      "application/vnd.jupyter.widget-view+json": {
       "model_id": "de09bd3d814044d2b5e786b3826cb10a",
       "version_major": 2,
       "version_minor": 0
      },
      "text/plain": [
       "  0%|          | 0/39 [00:00<?, ?it/s]"
      ]
     },
     "metadata": {},
     "output_type": "display_data"
    },
    {
     "name": "stdout",
     "output_type": "stream",
     "text": [
      "LE07_20000218.tif already downloaded.\n",
      "LE07_20001218.tif already downloaded.\n",
      "LE07_20011103.tif already downloaded.\n",
      "LE07_20011002.tif already downloaded.\n",
      "LE07_20010308.tif already downloaded.\n",
      "LE07_20020207.tif already downloaded.\n",
      "LE07_20021005.tif already downloaded.\n",
      "LE07_20000321.tif already downloaded.\n",
      "LE07_20030415.tif already downloaded.\n",
      "LE07_20000913.tif already downloaded.\n",
      "LE07_20020802.tif already downloaded.\n",
      "LE07_20010831.tif already downloaded.\n",
      "LE07_20000312.tif already downloaded.\n",
      "LE07_20001107.tif already downloaded.\n",
      "LE07_20010315.tif already downloaded.\n",
      "LE07_19991121.tif already downloaded.\n",
      "LE07_20010416.tif already downloaded.\n",
      "LE07_20000920.tif already downloaded.\n",
      "LE07_20001123.tif already downloaded.\n",
      "LE07_20010331.tif already downloaded.\n",
      "LE07_19991207.tif already downloaded.\n",
      "LE07_20010923.tif already downloaded.\n",
      "LE07_20030305.tif already downloaded.\n",
      "LE07_20010110.tif already downloaded.\n",
      "LE07_20030321.tif already downloaded.\n",
      "LE07_19991121.tif already downloaded.\n",
      "LE07_20000312.tif already downloaded.\n",
      "LE07_20010110.tif already downloaded.\n",
      "LE07_20001107.tif already downloaded.\n",
      "LE07_20010416.tif already downloaded.\n",
      "LE07_20020403.tif already downloaded.\n",
      "LE07_20000920.tif already downloaded.\n",
      "LE07_20000413.tif already downloaded.\n",
      "LE07_20030305.tif already downloaded.\n",
      "LE07_20010331.tif already downloaded.\n",
      "LE07_20010923.tif already downloaded.\n",
      "LE07_20010315.tif already downloaded.\n",
      "LE07_20030321.tif already downloaded.\n",
      "LE07_20030422.tif already downloaded.\n",
      "images downloaded.\n"
     ]
    },
    {
     "data": {
      "application/vnd.jupyter.widget-view+json": {
       "model_id": "3674b141edf2485e96e5752735a2cc7d",
       "version_major": 2,
       "version_minor": 0
      },
      "text/plain": [
       "0it [00:00, ?it/s]"
      ]
     },
     "metadata": {},
     "output_type": "display_data"
    },
    {
     "name": "stderr",
     "output_type": "stream",
     "text": [
      "/home/vdiuser/coastal-monitoring-system/ccdutils/monitoringutils.py:310: UserWarning: DataFrame columns are not unique, some columns will be omitted.\n",
      "  meta_dict = meta_df.to_dict(orient='list')\n"
     ]
    },
    {
     "name": "stdout",
     "output_type": "stream",
     "text": [
      "number of cloud-free images to download:  39\n"
     ]
    },
    {
     "data": {
      "application/vnd.jupyter.widget-view+json": {
       "model_id": "7094892712074017b50de4272d9f27c9",
       "version_major": 2,
       "version_minor": 0
      },
      "text/plain": [
       "  0%|          | 0/39 [00:00<?, ?it/s]"
      ]
     },
     "metadata": {},
     "output_type": "display_data"
    },
    {
     "name": "stdout",
     "output_type": "stream",
     "text": [
      "LT05_20031016.tif already downloaded.\n",
      "LT05_20031117.tif already downloaded.\n",
      "LT05_20040104.tif already downloaded.\n",
      "LT05_20060125.tif already downloaded.\n",
      "LT05_20030914.tif already downloaded.\n",
      "LT05_20060922.tif already downloaded.\n",
      "LT05_20050412.tif already downloaded.\n",
      "LT05_20060821.tif already downloaded.\n",
      "LT05_20050919.tif already downloaded.\n",
      "LT05_20061024.tif already downloaded.\n",
      "LT05_20050311.tif already downloaded.\n",
      "LT05_20061008.tif already downloaded.\n",
      "LT05_20070909.tif already downloaded.\n",
      "LT05_20100120.tif already downloaded.\n",
      "LT05_20110107.tif already downloaded.\n",
      "LT05_20070213.tif already downloaded.\n",
      "LT05_20050318.tif already downloaded.\n",
      "LT05_20110312.tif already downloaded.\n",
      "LT05_20110123.tif already downloaded.\n",
      "LT05_20050214.tif already downloaded.\n",
      "LT05_20110208.tif already downloaded.\n",
      "LT05_20041110.tif already downloaded.\n",
      "LT05_20061031.tif already downloaded.\n",
      "LT05_20050910.tif already downloaded.\n",
      "LT05_20070204.tif already downloaded.\n",
      "LT05_20071002.tif already downloaded.\n",
      "LT05_20110215.tif already downloaded.\n",
      "LT05_20090124.tif already downloaded.\n",
      "LT05_20100127.tif already downloaded.LT05_20050505.tif already downloaded.\n",
      "\n",
      "LT05_20101229.tif already downloaded.\n",
      "LT05_20040416.tif already downloaded.\n",
      "LT05_20060828.tif already downloaded.\n",
      "LT05_20050214.tif already downloaded.\n",
      "LT05_20050910.tif already downloaded.\n",
      "LT05_20061031.tif already downloaded.\n",
      "LT05_20070220.tif already downloaded.\n",
      "LT05_20070204.tif already downloaded.\n",
      "LT05_20101229.tif already downloaded.\n",
      "images downloaded.\n"
     ]
    },
    {
     "data": {
      "application/vnd.jupyter.widget-view+json": {
       "model_id": "071718006d444027b187cfe901213d68",
       "version_major": 2,
       "version_minor": 0
      },
      "text/plain": [
       "0it [00:00, ?it/s]"
      ]
     },
     "metadata": {},
     "output_type": "display_data"
    },
    {
     "name": "stderr",
     "output_type": "stream",
     "text": [
      "/home/vdiuser/coastal-monitoring-system/ccdutils/monitoringutils.py:310: UserWarning: DataFrame columns are not unique, some columns will be omitted.\n",
      "  meta_dict = meta_df.to_dict(orient='list')\n"
     ]
    },
    {
     "name": "stdout",
     "output_type": "stream",
     "text": [
      "0) data/HR5/85bb58c7fffffff/classification/2019.kea\n",
      "New image width = 1006 height = 950 bands = 1\n",
      "\n"
     ]
    },
    {
     "name": "stderr",
     "output_type": "stream",
     "text": [
      "101it [00:00, 4799.52it/s]                                                      \n"
     ]
    },
    {
     "name": "stdout",
     "output_type": "stream",
     "text": [
      "Polygonising...\n",
      "Completed\n",
      "Looking for images between 2016-11-25 and 2024-09-27\n",
      "number of cloud-free available: 24\n",
      "Looking for images between 2012-12-28 and 2024-09-27\n",
      "number of available images: 210\n",
      "number of cloud-free images: 26\n",
      "Looking for images between 2021-01-01 and 2024-09-27\n",
      "number of available images: 50\n",
      "number of cloud-free images: 7\n",
      "Looking for images between 1998-12-27 and 2003-06-01\n",
      "number of available images: 61\n",
      "number of cloud-free images: 5\n",
      "Looking for images between 1984-03-02 and 2012-06-01\n",
      "number of available images: 68\n",
      "number of cloud-free images: 4\n",
      "number of cloud-free images to download:  24\n"
     ]
    },
    {
     "data": {
      "application/vnd.jupyter.widget-view+json": {
       "model_id": "5d9dbc6f9ced400185a783afeaf9c140",
       "version_major": 2,
       "version_minor": 0
      },
      "text/plain": [
       "  0%|          | 0/24 [00:00<?, ?it/s]"
      ]
     },
     "metadata": {},
     "output_type": "display_data"
    },
    {
     "name": "stdout",
     "output_type": "stream",
     "text": [
      "S2_20190226.tif already downloaded.\n",
      "S2_20190303.tif already downloaded.\n",
      "S2_20200819.tif already downloaded.\n",
      "S2_20191118.tif already downloaded.\n",
      "S2_20191228.tif already downloaded.\n",
      "S2_20200206.tif already downloaded.\n",
      "S2_20200401.tif already downloaded.\n",
      "S2_20200122.tif already downloaded.\n",
      "S2_20200102.tif already downloaded.\n",
      "S2_20200201.tif already downloaded.\n",
      "S2_20191103.tif already downloaded.\n",
      "S2_20190201.tif already downloaded.\n",
      "S2_20201227.tif already downloaded.\n",
      "S2_20220106.tif already downloaded.\n",
      "S2_20211028.tif already downloaded.\n",
      "S2_20220111.tif already downloaded.\n",
      "S2_20211023.tif already downloaded.\n",
      "S2_20221222.tif already downloaded.\n",
      "S2_20230307.tif already downloaded.\n",
      "S2_20220126.tif already downloaded.\n",
      "S2_20220116.tif already downloaded.\n",
      "S2_20231003.tif already downloaded.\n",
      "S2_20240311.tif already downloaded.\n",
      "S2_20220225.tif already downloaded.\n",
      "images downloaded.\n"
     ]
    },
    {
     "data": {
      "application/vnd.jupyter.widget-view+json": {
       "model_id": "1ea3824595634fef8f3a56b1de1c5f05",
       "version_major": 2,
       "version_minor": 0
      },
      "text/plain": [
       "0it [00:00, ?it/s]"
      ]
     },
     "metadata": {},
     "output_type": "display_data"
    },
    {
     "name": "stdout",
     "output_type": "stream",
     "text": [
      "number of cloud-free images to download:  26\n"
     ]
    },
    {
     "data": {
      "application/vnd.jupyter.widget-view+json": {
       "model_id": "608ab3d040a74239ab8631e821c379c8",
       "version_major": 2,
       "version_minor": 0
      },
      "text/plain": [
       "  0%|          | 0/26 [00:00<?, ?it/s]"
      ]
     },
     "metadata": {},
     "output_type": "display_data"
    },
    {
     "name": "stdout",
     "output_type": "stream",
     "text": [
      "LC08_20140207.tif already downloaded.\n",
      "LC08_20140223.tif already downloaded.\n",
      "LC08_20130628.tif already downloaded.\n",
      "LC08_20130511.tif already downloaded.\n",
      "LC08_20131205.tif already downloaded.\n",
      "LC08_20160112.tif already downloaded.\n",
      "LC08_20200224.tif already downloaded.\n",
      "LC08_20191104.tif already downloaded.\n",
      "LC08_20131103.tif already downloaded.\n",
      "LC08_20190528.tif already downloaded.\n",
      "LC08_20200208.tif already downloaded.\n",
      "LC08_20200327.tif already downloaded.\n",
      "LC08_20210415.tif already downloaded.\n",
      "LC08_20220112.tif already downloaded.\n",
      "LC08_20210501.tif already downloaded.\n",
      "LC08_20231014.tif already downloaded.\n",
      "LC08_20220808.tif already downloaded.\n",
      "LC08_20220909.tif already downloaded.\n",
      "LC08_20230216.tif already downloaded.\n",
      "LC08_20230912.tif already downloaded.\n",
      "LC08_20231217.tif already downloaded.\n",
      "LC08_20221112.tif already downloaded.\n",
      "LC08_20240219.tif already downloaded.\n",
      "LC08_20240712.tif already downloaded.\n",
      "LC08_20240322.tif already downloaded.\n",
      "LC08_20240829.tif already downloaded.\n",
      "images downloaded.\n"
     ]
    },
    {
     "data": {
      "application/vnd.jupyter.widget-view+json": {
       "model_id": "8b35a8ec12754622bafb12b9316ab1cf",
       "version_major": 2,
       "version_minor": 0
      },
      "text/plain": [
       "0it [00:00, ?it/s]"
      ]
     },
     "metadata": {},
     "output_type": "display_data"
    },
    {
     "name": "stderr",
     "output_type": "stream",
     "text": [
      "/home/vdiuser/coastal-monitoring-system/ccdutils/monitoringutils.py:310: UserWarning: DataFrame columns are not unique, some columns will be omitted.\n",
      "  meta_dict = meta_df.to_dict(orient='list')\n"
     ]
    },
    {
     "name": "stdout",
     "output_type": "stream",
     "text": [
      "number of cloud-free images to download:  7\n"
     ]
    },
    {
     "data": {
      "application/vnd.jupyter.widget-view+json": {
       "model_id": "2ce8415e81a24fc6920903cb42b1a383",
       "version_major": 2,
       "version_minor": 0
      },
      "text/plain": [
       "  0%|          | 0/7 [00:00<?, ?it/s]"
      ]
     },
     "metadata": {},
     "output_type": "display_data"
    },
    {
     "name": "stdout",
     "output_type": "stream",
     "text": [
      "LC09_20220613.tif already downloaded.\n",
      "LC09_20240821.tif already downloaded.\n",
      "LC09_20231022.tif already downloaded.\n",
      "LC09_20221222.tif already downloaded.\n",
      "LC09_20220104.tif already downloaded.\n",
      "LC09_20220512.tif already downloaded.\n",
      "LC09_20230208.tif already downloaded.\n",
      "images downloaded.\n"
     ]
    },
    {
     "data": {
      "application/vnd.jupyter.widget-view+json": {
       "model_id": "4d8af5721da74e56a0176d916b2e55f3",
       "version_major": 2,
       "version_minor": 0
      },
      "text/plain": [
       "0it [00:00, ?it/s]"
      ]
     },
     "metadata": {},
     "output_type": "display_data"
    },
    {
     "name": "stderr",
     "output_type": "stream",
     "text": [
      "/home/vdiuser/coastal-monitoring-system/ccdutils/monitoringutils.py:310: UserWarning: DataFrame columns are not unique, some columns will be omitted.\n",
      "  meta_dict = meta_df.to_dict(orient='list')\n"
     ]
    },
    {
     "name": "stdout",
     "output_type": "stream",
     "text": [
      "number of cloud-free images to download:  5\n"
     ]
    },
    {
     "data": {
      "application/vnd.jupyter.widget-view+json": {
       "model_id": "ffc9e4ec2d8145b987ea4a15eb586a7c",
       "version_major": 2,
       "version_minor": 0
      },
      "text/plain": [
       "  0%|          | 0/5 [00:00<?, ?it/s]"
      ]
     },
     "metadata": {},
     "output_type": "display_data"
    },
    {
     "name": "stdout",
     "output_type": "stream",
     "text": [
      "LE07_20000429.tif already downloaded.\n",
      "LE07_20030116.tif already downloaded.\n",
      "LE07_20020724.tif already downloaded.\n",
      "LE07_20001006.tif already downloaded.\n",
      "LE07_20000920.tif already downloaded.\n",
      "images downloaded.\n"
     ]
    },
    {
     "data": {
      "application/vnd.jupyter.widget-view+json": {
       "model_id": "cf00adab31164828baf4a47d1764a9c4",
       "version_major": 2,
       "version_minor": 0
      },
      "text/plain": [
       "0it [00:00, ?it/s]"
      ]
     },
     "metadata": {},
     "output_type": "display_data"
    },
    {
     "name": "stderr",
     "output_type": "stream",
     "text": [
      "/home/vdiuser/coastal-monitoring-system/ccdutils/monitoringutils.py:310: UserWarning: DataFrame columns are not unique, some columns will be omitted.\n",
      "  meta_dict = meta_df.to_dict(orient='list')\n"
     ]
    },
    {
     "name": "stdout",
     "output_type": "stream",
     "text": [
      "number of cloud-free images to download:  4\n"
     ]
    },
    {
     "data": {
      "application/vnd.jupyter.widget-view+json": {
       "model_id": "7db4a0fb40464feebfef94d28fdcb52a",
       "version_major": 2,
       "version_minor": 0
      },
      "text/plain": [
       "  0%|          | 0/4 [00:00<?, ?it/s]"
      ]
     },
     "metadata": {},
     "output_type": "display_data"
    },
    {
     "name": "stdout",
     "output_type": "stream",
     "text": [
      "LT05_20050214.tif already downloaded.\n",
      "LT05_20050113.tif already downloaded.\n",
      "LT05_20100212.tif already downloaded.\n",
      "LT05_20031226.tif already downloaded.\n",
      "images downloaded.\n"
     ]
    },
    {
     "data": {
      "application/vnd.jupyter.widget-view+json": {
       "model_id": "25cbc3f55dee4dd78e776e095ba0682f",
       "version_major": 2,
       "version_minor": 0
      },
      "text/plain": [
       "0it [00:00, ?it/s]"
      ]
     },
     "metadata": {},
     "output_type": "display_data"
    },
    {
     "name": "stderr",
     "output_type": "stream",
     "text": [
      "/home/vdiuser/coastal-monitoring-system/ccdutils/monitoringutils.py:310: UserWarning: DataFrame columns are not unique, some columns will be omitted.\n",
      "  meta_dict = meta_df.to_dict(orient='list')\n"
     ]
    }
   ],
   "source": [
    "# define top-level folder \n",
    "hr5_folder = \"data/HR5\"\n",
    "try:\n",
    "    os.mkdir(hr5_folder) \n",
    "except:\n",
    "    os.path.exists(hr5_folder) == True\n",
    "\n",
    "# return gdf of sites\n",
    "hr5_cells = gpd.read_file('global-inputs/HR5-cells-beach-slope.gpkg')\n",
    "\n",
    "sites = pd.read_csv('global-inputs/sites.csv')\n",
    "sites_list = sites.cell_id.tolist()\n",
    "#print(sites_list)                   \n",
    "\n",
    "monitor_sites = hr5_cells[hr5_cells['cell_id'].isin(sites_list)]\n",
    "\n",
    "monitor_sites\n",
    "\n",
    "# Create a list of GeoSeries\n",
    "gdf_cell_list = [gpd.GeoDataFrame([row]) for idx, row in monitor_sites.iterrows()]\n",
    "\n",
    "# Iterate over the list of GeoSeries\n",
    "for cell in gdf_cell_list:\n",
    "    monitoringutils.download_historical_imagery(cell, hr5_folder)\n",
    "\n"
   ]
  },
  {
   "cell_type": "code",
   "execution_count": 30,
   "metadata": {},
   "outputs": [
    {
     "data": {
      "application/vnd.jupyter.widget-view+json": {
       "model_id": "41fb3c0a4dc4484687542731748f4b98",
       "version_major": 2,
       "version_minor": 0
      },
      "text/plain": [
       "0it [00:00, ?it/s]"
      ]
     },
     "metadata": {},
     "output_type": "display_data"
    },
    {
     "name": "stdout",
     "output_type": "stream",
     "text": [
      "<Response [200]>\n",
      "<Response [200]>\n",
      "<Response [200]>\n",
      "<Response [200]>\n",
      "<Response [200]>\n",
      "<Response [200]>\n",
      "<Response [200]>\n",
      "<Response [200]>\n",
      "<Response [200]>\n",
      "<Response [200]>\n",
      "<Response [200]>\n",
      "<Response [200]>\n",
      "<Response [200]>\n",
      "<Response [200]>\n",
      "<Response [200]>\n",
      "<Response [200]>\n",
      "<Response [200]>\n",
      "<Response [200]>\n",
      "<Response [200]>\n",
      "<Response [200]>\n",
      "<Response [200]>\n",
      "<Response [200]>\n",
      "<Response [200]>\n",
      "<Response [200]>\n",
      "<Response [200]>\n",
      "<Response [200]>\n",
      "<Response [200]>\n",
      "<Response [200]>\n",
      "<Response [200]>\n",
      "<Response [200]>\n",
      "<Response [200]>\n",
      "<Response [200]>\n",
      "<Response [200]>\n",
      "<Response [200]>\n",
      "<Response [200]>\n",
      "<Response [200]>\n",
      "<Response [200]>\n",
      "<Response [200]>\n",
      "<Response [200]>\n",
      "<Response [200]>\n",
      "<Response [200]>\n",
      "<Response [200]>\n",
      "<Response [200]>\n",
      "<Response [200]>\n",
      "<Response [200]>\n",
      "<Response [200]>\n",
      "<Response [200]>\n",
      "<Response [200]>\n",
      "<Response [200]>\n",
      "<Response [200]>\n",
      "<Response [200]>\n",
      "<Response [200]>\n",
      "<Response [200]>\n",
      "<Response [200]>\n",
      "<Response [200]>\n",
      "<Response [200]>\n",
      "<Response [200]>\n",
      "<Response [200]>\n",
      "<Response [200]>\n",
      "<Response [200]>\n",
      "<Response [200]>\n",
      "<Response [200]>\n",
      "<Response [200]>\n",
      "<Response [200]>\n",
      "<Response [200]>\n",
      "<Response [200]>\n"
     ]
    },
    {
     "data": {
      "text/html": [
       "<div>\n",
       "<style scoped>\n",
       "    .dataframe tbody tr th:only-of-type {\n",
       "        vertical-align: middle;\n",
       "    }\n",
       "\n",
       "    .dataframe tbody tr th {\n",
       "        vertical-align: top;\n",
       "    }\n",
       "\n",
       "    .dataframe thead th {\n",
       "        text-align: right;\n",
       "    }\n",
       "</style>\n",
       "<table border=\"1\" class=\"dataframe\">\n",
       "  <thead>\n",
       "    <tr style=\"text-align: right;\">\n",
       "      <th></th>\n",
       "      <th>image_id</th>\n",
       "      <th>region_cloudy_percentage</th>\n",
       "      <th>image_date</th>\n",
       "      <th>image_time</th>\n",
       "      <th>lon</th>\n",
       "      <th>lat</th>\n",
       "      <th>tide_level_msl</th>\n",
       "    </tr>\n",
       "  </thead>\n",
       "  <tbody>\n",
       "    <tr>\n",
       "      <th>0</th>\n",
       "      <td>COPERNICUS/S2_SR_HARMONIZED/20190201T223529_20...</td>\n",
       "      <td>0.000</td>\n",
       "      <td>2019-02-01</td>\n",
       "      <td>1355</td>\n",
       "      <td>172.855398</td>\n",
       "      <td>-34.645848</td>\n",
       "      <td>-0.25</td>\n",
       "    </tr>\n",
       "    <tr>\n",
       "      <th>1</th>\n",
       "      <td>COPERNICUS/S2_SR_HARMONIZED/20190226T223521_20...</td>\n",
       "      <td>0.000</td>\n",
       "      <td>2019-02-26</td>\n",
       "      <td>1355</td>\n",
       "      <td>172.855398</td>\n",
       "      <td>-34.645848</td>\n",
       "      <td>-0.24</td>\n",
       "    </tr>\n",
       "    <tr>\n",
       "      <th>2</th>\n",
       "      <td>COPERNICUS/S2_SR_HARMONIZED/20190303T223529_20...</td>\n",
       "      <td>0.000</td>\n",
       "      <td>2019-03-03</td>\n",
       "      <td>1355</td>\n",
       "      <td>172.855398</td>\n",
       "      <td>-34.645848</td>\n",
       "      <td>-0.05</td>\n",
       "    </tr>\n",
       "    <tr>\n",
       "      <th>3</th>\n",
       "      <td>COPERNICUS/S2_SR_HARMONIZED/20191103T223541_20...</td>\n",
       "      <td>0.000</td>\n",
       "      <td>2019-11-03</td>\n",
       "      <td>1355</td>\n",
       "      <td>172.855398</td>\n",
       "      <td>-34.645848</td>\n",
       "      <td>0.07</td>\n",
       "    </tr>\n",
       "    <tr>\n",
       "      <th>4</th>\n",
       "      <td>COPERNICUS/S2_SR_HARMONIZED/20191118T223539_20...</td>\n",
       "      <td>0.001</td>\n",
       "      <td>2019-11-18</td>\n",
       "      <td>1355</td>\n",
       "      <td>172.855398</td>\n",
       "      <td>-34.645848</td>\n",
       "      <td>0.37</td>\n",
       "    </tr>\n",
       "    <tr>\n",
       "      <th>...</th>\n",
       "      <td>...</td>\n",
       "      <td>...</td>\n",
       "      <td>...</td>\n",
       "      <td>...</td>\n",
       "      <td>...</td>\n",
       "      <td>...</td>\n",
       "      <td>...</td>\n",
       "    </tr>\n",
       "    <tr>\n",
       "      <th>61</th>\n",
       "      <td>LANDSAT/LE07/C02/T1_L2/LE07_075084_20030116</td>\n",
       "      <td>0.000</td>\n",
       "      <td>2003-01-16</td>\n",
       "      <td>1326</td>\n",
       "      <td>172.855398</td>\n",
       "      <td>-34.645848</td>\n",
       "      <td>0.29</td>\n",
       "    </tr>\n",
       "    <tr>\n",
       "      <th>62</th>\n",
       "      <td>LANDSAT/LT05/C02/T1_L2/LT05_075084_20031226</td>\n",
       "      <td>0.000</td>\n",
       "      <td>2003-12-26</td>\n",
       "      <td>1316</td>\n",
       "      <td>172.855398</td>\n",
       "      <td>-34.645848</td>\n",
       "      <td>1.16</td>\n",
       "    </tr>\n",
       "    <tr>\n",
       "      <th>63</th>\n",
       "      <td>LANDSAT/LT05/C02/T1_L2/LT05_075084_20050113</td>\n",
       "      <td>0.000</td>\n",
       "      <td>2005-01-13</td>\n",
       "      <td>1323</td>\n",
       "      <td>172.855398</td>\n",
       "      <td>-34.645848</td>\n",
       "      <td>1.29</td>\n",
       "    </tr>\n",
       "    <tr>\n",
       "      <th>64</th>\n",
       "      <td>LANDSAT/LT05/C02/T1_L2/LT05_075084_20050214</td>\n",
       "      <td>0.000</td>\n",
       "      <td>2005-02-14</td>\n",
       "      <td>1324</td>\n",
       "      <td>172.855398</td>\n",
       "      <td>-34.645848</td>\n",
       "      <td>0.14</td>\n",
       "    </tr>\n",
       "    <tr>\n",
       "      <th>65</th>\n",
       "      <td>LANDSAT/LT05/C02/T1_L2/LT05_075084_20100212</td>\n",
       "      <td>0.000</td>\n",
       "      <td>2010-02-12</td>\n",
       "      <td>1328</td>\n",
       "      <td>172.855398</td>\n",
       "      <td>-34.645848</td>\n",
       "      <td>0.59</td>\n",
       "    </tr>\n",
       "  </tbody>\n",
       "</table>\n",
       "<p>66 rows × 7 columns</p>\n",
       "</div>"
      ],
      "text/plain": [
       "                                             image_id  \\\n",
       "0   COPERNICUS/S2_SR_HARMONIZED/20190201T223529_20...   \n",
       "1   COPERNICUS/S2_SR_HARMONIZED/20190226T223521_20...   \n",
       "2   COPERNICUS/S2_SR_HARMONIZED/20190303T223529_20...   \n",
       "3   COPERNICUS/S2_SR_HARMONIZED/20191103T223541_20...   \n",
       "4   COPERNICUS/S2_SR_HARMONIZED/20191118T223539_20...   \n",
       "..                                                ...   \n",
       "61        LANDSAT/LE07/C02/T1_L2/LE07_075084_20030116   \n",
       "62        LANDSAT/LT05/C02/T1_L2/LT05_075084_20031226   \n",
       "63        LANDSAT/LT05/C02/T1_L2/LT05_075084_20050113   \n",
       "64        LANDSAT/LT05/C02/T1_L2/LT05_075084_20050214   \n",
       "65        LANDSAT/LT05/C02/T1_L2/LT05_075084_20100212   \n",
       "\n",
       "    region_cloudy_percentage  image_date  image_time         lon        lat  \\\n",
       "0                      0.000  2019-02-01        1355  172.855398 -34.645848   \n",
       "1                      0.000  2019-02-26        1355  172.855398 -34.645848   \n",
       "2                      0.000  2019-03-03        1355  172.855398 -34.645848   \n",
       "3                      0.000  2019-11-03        1355  172.855398 -34.645848   \n",
       "4                      0.001  2019-11-18        1355  172.855398 -34.645848   \n",
       "..                       ...         ...         ...         ...        ...   \n",
       "61                     0.000  2003-01-16        1326  172.855398 -34.645848   \n",
       "62                     0.000  2003-12-26        1316  172.855398 -34.645848   \n",
       "63                     0.000  2005-01-13        1323  172.855398 -34.645848   \n",
       "64                     0.000  2005-02-14        1324  172.855398 -34.645848   \n",
       "65                     0.000  2010-02-12        1328  172.855398 -34.645848   \n",
       "\n",
       "    tide_level_msl  \n",
       "0            -0.25  \n",
       "1            -0.24  \n",
       "2            -0.05  \n",
       "3             0.07  \n",
       "4             0.37  \n",
       "..             ...  \n",
       "61            0.29  \n",
       "62            1.16  \n",
       "63            1.29  \n",
       "64            0.14  \n",
       "65            0.59  \n",
       "\n",
       "[66 rows x 7 columns]"
      ]
     },
     "execution_count": 30,
     "metadata": {},
     "output_type": "execute_result"
    }
   ],
   "source": []
  },
  {
   "cell_type": "code",
   "execution_count": null,
   "metadata": {},
   "outputs": [],
   "source": []
  }
 ],
 "metadata": {
  "kernelspec": {
   "display_name": "Python 3 (ipykernel)",
   "language": "python",
   "name": "python3"
  },
  "language_info": {
   "codemirror_mode": {
    "name": "ipython",
    "version": 3
   },
   "file_extension": ".py",
   "mimetype": "text/x-python",
   "name": "python",
   "nbconvert_exporter": "python",
   "pygments_lexer": "ipython3",
   "version": "3.12.6"
  }
 },
 "nbformat": 4,
 "nbformat_minor": 4
}
