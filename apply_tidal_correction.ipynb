{
 "cells": [
  {
   "cell_type": "code",
   "execution_count": 1,
   "id": "1928b390-07e8-407d-aefa-a75f7a551f1b",
   "metadata": {
    "execution": {
     "iopub.execute_input": "2024-10-08T03:08:01.344911Z",
     "iopub.status.busy": "2024-10-08T03:08:01.344706Z",
     "iopub.status.idle": "2024-10-08T03:08:01.753080Z",
     "shell.execute_reply": "2024-10-08T03:08:01.752049Z"
    }
   },
   "outputs": [],
   "source": [
    "import glob\n",
    "import geopandas as gpd\n",
    "import pandas as pd\n",
    "from datetime import datetime\n",
    "\n",
    "hr5_cells = gpd.read_file('global-inputs/HR5-cells-beach-slope.gpkg')\n",
    "\n",
    "def apply_tidal_correction(cell_id):\n",
    "    slope = hr5_cells.loc[hr5_cells['cell_id'] == cell_id, 'beach_slope'].values[0]\n",
    "    ref_ele = 0\n",
    "\n",
    "    folder = f\"data/HR5/{cell_id}\"\n",
    "    raw_df = pd.read_csv(f\"{folder}/cell_timeseries.csv\")\n",
    "    raw_df['date'] = pd.to_datetime(raw_df['date'])\n",
    "\n",
    "    tide_df = pd.read_json(f\"{folder}/image_metadata.json\")\n",
    "    tide_df['date'] = tide_df['image_date'].apply(lambda x:datetime.strptime(x,'%Y-%m-%d'))\n",
    "\n",
    "    merged_df = pd.merge(raw_df, tide_df[['date', 'tide_level_msl']], on='date', how='left') # Merge raw_df and tide_df on the date column\n",
    "\n",
    "    merged_df['tidal_correction'] = (merged_df.tide_level_msl-ref_ele)/slope\n",
    "    merged_df['corrected_IW_shoreline_position'] = (merged_df.IW_shoreline_chg + merged_df.tidal_correction).round(2)\n",
    "    merged_df['normalised_IW_shoreline_position'] = (merged_df['corrected_IW_shoreline_position'] - merged_df['corrected_IW_shoreline_position'].iloc[0]).round(2)\n",
    "    merged_df['normalised_EOV_shoreline_position'] = (merged_df['EOV_shoreline_chg'] - merged_df['EOV_shoreline_chg'].iloc[0]).round(2)\n",
    "\n",
    "    merged_df.drop_duplicates(subset=['date'], keep='first', inplace=True)\n",
    "    \n",
    "    return merged_df\n",
    "\n",
    "def return_landcover_percentage_change(df):\n",
    "    landcover = df.drop(columns='date')\n",
    "    df['total_area'] = landcover.sum(axis=1)\n",
    "    df['sand_area_percentage'] = (df['sand_area (Ha)']/df['total_area'])*100\n",
    "    df['water_area_percentage'] = (df['water_area (Ha)']/df['total_area'])*100\n",
    "    df['vegetation_area_percentage'] = (df['vegetation_area (Ha)']/df['total_area'])*100\n",
    "\n",
    "    df[['sand_area_percentage_change', 'water_area_percentage_change', 'vegetation_area_percentage_change']] = df[['sand_area_percentage', 'water_area_percentage', 'vegetation_area_percentage']].diff().round(2)\n",
    "\n",
    "    df.drop_duplicates(subset=['date'], keep='first', inplace=True)\n",
    "    \n",
    "    return df[['date', 'sand_area_percentage_change', 'water_area_percentage_change', 'vegetation_area_percentage_change']].fillna(0)"
   ]
  },
  {
   "cell_type": "code",
   "execution_count": 2,
   "id": "bb8e96c6-771a-43d9-9be0-a9e3db0fc8c0",
   "metadata": {
    "execution": {
     "iopub.execute_input": "2024-10-08T03:08:01.756662Z",
     "iopub.status.busy": "2024-10-08T03:08:01.756378Z",
     "iopub.status.idle": "2024-10-08T03:08:01.760414Z",
     "shell.execute_reply": "2024-10-08T03:08:01.759744Z"
    }
   },
   "outputs": [
    {
     "name": "stdout",
     "output_type": "stream",
     "text": [
      "test script jupyter notebook 1\n"
     ]
    }
   ],
   "source": [
    "sites_df = pd.read_csv('global-inputs/sites.csv')\n",
    "\n",
    "cell_ids = list(sites_df['cell_id'])\n",
    "\n",
    "cells = hr5_cells[hr5_cells['cell_id'].isin(cell_ids)]"
   ]
  },
  {
   "cell_type": "code",
   "execution_count": 3,
   "id": "a44eefa9-049b-4526-9ae5-941cf0dc6434",
   "metadata": {
    "execution": {
     "iopub.execute_input": "2024-10-08T03:08:01.762412Z",
     "iopub.status.busy": "2024-10-08T03:08:01.762219Z",
     "iopub.status.idle": "2024-10-08T03:08:01.765557Z",
     "shell.execute_reply": "2024-10-08T03:08:01.764924Z"
    }
   },
   "outputs": [],
   "source": [
    "cell_ids = cells.cell_id.tolist()\n",
    "# print(cell_ids)\n",
    "for cell in cell_ids:\n",
    "    #print(cell)\n",
    "    corrected_df = apply_tidal_correction(cell)\n",
    "    shorelines_df = corrected_df[['date', 'normalised_IW_shoreline_position', 'normalised_EOV_shoreline_position', 'corrected_IW_shoreline_position', 'EOV_shoreline_chg']]\n",
    "    shorelines_df.rename(columns={'EOV_shoreline_chg': 'EOV_shoreline_position'})\n",
    "    shorelines_df.to_csv(f\"data/HR5/{cell}/shoreline_timeseries_tidal_correction.csv\")\n",
    "\n",
    "    landcover_df = corrected_df[['date', 'sand_area (Ha)', 'water_area (Ha)', 'vegetation_area (Ha)']]\n",
    "    landcover_df = return_landcover_percentage_change(landcover_df)\n",
    "    landcover_df.to_csv(f\"data/HR5/{cell}/landcover_timeseries_percentage_change.csv\")"
   ]
  },
  {
   "cell_type": "code",
   "execution_count": null,
   "id": "edcb9ed4-d675-44e4-bd52-1c6bab5e3a80",
   "metadata": {},
   "outputs": [],
   "source": []
  }
 ],
 "metadata": {
  "kernelspec": {
   "display_name": "Python 3 (ipykernel)",
   "language": "python",
   "name": "python3"
  },
  "language_info": {
   "codemirror_mode": {
    "name": "ipython",
    "version": 3
   },
   "file_extension": ".py",
   "mimetype": "text/x-python",
   "name": "python",
   "nbconvert_exporter": "python",
   "pygments_lexer": "ipython3",
   "version": "3.12.6"
  }
 },
 "nbformat": 4,
 "nbformat_minor": 5
}
